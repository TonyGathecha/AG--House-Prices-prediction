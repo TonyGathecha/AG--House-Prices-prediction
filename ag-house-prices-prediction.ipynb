{
 "cells": [
  {
   "cell_type": "code",
   "execution_count": 1,
   "id": "49e7f9fe",
   "metadata": {
    "_cell_guid": "b1076dfc-b9ad-4769-8c92-a6c4dae69d19",
    "_uuid": "8f2839f25d086af736a60e9eeb907d3b93b6e0e5",
    "execution": {
     "iopub.execute_input": "2024-07-08T12:46:18.557906Z",
     "iopub.status.busy": "2024-07-08T12:46:18.557540Z",
     "iopub.status.idle": "2024-07-08T12:46:33.732472Z",
     "shell.execute_reply": "2024-07-08T12:46:33.731102Z"
    },
    "papermill": {
     "duration": 15.183349,
     "end_time": "2024-07-08T12:46:33.735089",
     "exception": false,
     "start_time": "2024-07-08T12:46:18.551740",
     "status": "completed"
    },
    "tags": []
   },
   "outputs": [
    {
     "name": "stderr",
     "output_type": "stream",
     "text": [
      "2024-07-08 12:46:21.518517: E external/local_xla/xla/stream_executor/cuda/cuda_dnn.cc:9261] Unable to register cuDNN factory: Attempting to register factory for plugin cuDNN when one has already been registered\n",
      "2024-07-08 12:46:21.518629: E external/local_xla/xla/stream_executor/cuda/cuda_fft.cc:607] Unable to register cuFFT factory: Attempting to register factory for plugin cuFFT when one has already been registered\n",
      "2024-07-08 12:46:21.664388: E external/local_xla/xla/stream_executor/cuda/cuda_blas.cc:1515] Unable to register cuBLAS factory: Attempting to register factory for plugin cuBLAS when one has already been registered\n"
     ]
    },
    {
     "name": "stdout",
     "output_type": "stream",
     "text": [
      "/kaggle/input/house-prices-advanced-regression-techniques/sample_submission.csv\n",
      "/kaggle/input/house-prices-advanced-regression-techniques/data_description.txt\n",
      "/kaggle/input/house-prices-advanced-regression-techniques/train.csv\n",
      "/kaggle/input/house-prices-advanced-regression-techniques/test.csv\n"
     ]
    }
   ],
   "source": [
    "# This Python 3 environment comes with many helpful analytics libraries installed\n",
    "# It is defined by the kaggle/python Docker image: https://github.com/kaggle/docker-python\n",
    "# For example, here's several helpful packages to load\n",
    "\n",
    "import numpy as np # linear algebra\n",
    "import pandas as pd # data processing, CSV file I/O (e.g. pd.read_csv)\n",
    "import tensorflow as tf\n",
    "import tensorflow_decision_forests as tfdf\n",
    "\n",
    "# Input data files are available in the read-only \"../input/\" directory\n",
    "# For example, running this (by clicking run or pressing Shift+Enter) will list all files under the input directory\n",
    "\n",
    "import os\n",
    "for dirname, _, filenames in os.walk('/kaggle/input'):\n",
    "    for filename in filenames:\n",
    "        print(os.path.join(dirname, filename))\n",
    "\n",
    "# You can write up to 20GB to the current directory (/kaggle/working/) that gets preserved as output when you create a version using \"Save & Run All\" \n",
    "# You can also write temporary files to /kaggle/temp/, but they won't be saved outside of the current session"
   ]
  },
  {
   "cell_type": "code",
   "execution_count": 2,
   "id": "d36bf83c",
   "metadata": {
    "execution": {
     "iopub.execute_input": "2024-07-08T12:46:33.745137Z",
     "iopub.status.busy": "2024-07-08T12:46:33.744526Z",
     "iopub.status.idle": "2024-07-08T12:46:33.790127Z",
     "shell.execute_reply": "2024-07-08T12:46:33.788968Z"
    },
    "papermill": {
     "duration": 0.053298,
     "end_time": "2024-07-08T12:46:33.792826",
     "exception": false,
     "start_time": "2024-07-08T12:46:33.739528",
     "status": "completed"
    },
    "tags": []
   },
   "outputs": [],
   "source": [
    "train_df=pd.read_csv('/kaggle/input/house-prices-advanced-regression-techniques/train.csv')"
   ]
  },
  {
   "cell_type": "markdown",
   "id": "d59f6136",
   "metadata": {
    "papermill": {
     "duration": 0.003629,
     "end_time": "2024-07-08T12:46:33.800466",
     "exception": false,
     "start_time": "2024-07-08T12:46:33.796837",
     "status": "completed"
    },
    "tags": []
   },
   "source": [
    "Split training data for training and testing using train test split"
   ]
  },
  {
   "cell_type": "code",
   "execution_count": 3,
   "id": "3675f517",
   "metadata": {
    "execution": {
     "iopub.execute_input": "2024-07-08T12:46:33.810379Z",
     "iopub.status.busy": "2024-07-08T12:46:33.809237Z",
     "iopub.status.idle": "2024-07-08T12:46:34.648058Z",
     "shell.execute_reply": "2024-07-08T12:46:34.647088Z"
    },
    "papermill": {
     "duration": 0.846313,
     "end_time": "2024-07-08T12:46:34.650632",
     "exception": false,
     "start_time": "2024-07-08T12:46:33.804319",
     "status": "completed"
    },
    "tags": []
   },
   "outputs": [],
   "source": [
    "from sklearn.model_selection import train_test_split\n",
    "x=train_df.drop(columns=['SalePrice'])\n",
    "y=train_df['SalePrice']\n",
    "x_train, y_train, x_test, y_test=train_test_split(x,y,test_size=0.1, random_state=42)"
   ]
  },
  {
   "cell_type": "markdown",
   "id": "83f9cc05",
   "metadata": {
    "papermill": {
     "duration": 0.003323,
     "end_time": "2024-07-08T12:46:34.657806",
     "exception": false,
     "start_time": "2024-07-08T12:46:34.654483",
     "status": "completed"
    },
    "tags": []
   },
   "source": [
    "Converted the training data from a dataframe to tensor flow data set to allow for Random Forest Modeling"
   ]
  },
  {
   "cell_type": "code",
   "execution_count": 4,
   "id": "40e423fe",
   "metadata": {
    "execution": {
     "iopub.execute_input": "2024-07-08T12:46:34.667194Z",
     "iopub.status.busy": "2024-07-08T12:46:34.666215Z",
     "iopub.status.idle": "2024-07-08T12:46:50.653473Z",
     "shell.execute_reply": "2024-07-08T12:46:50.652480Z"
    },
    "papermill": {
     "duration": 15.994409,
     "end_time": "2024-07-08T12:46:50.655780",
     "exception": false,
     "start_time": "2024-07-08T12:46:34.661371",
     "status": "completed"
    },
    "tags": []
   },
   "outputs": [
    {
     "name": "stdout",
     "output_type": "stream",
     "text": [
      "Use /tmp/tmpm4epmwl7 as temporary training directory\n",
      "Reading training dataset...\n",
      "Training dataset read in 0:00:06.222704. Found 1460 examples.\n",
      "Training model...\n"
     ]
    },
    {
     "name": "stderr",
     "output_type": "stream",
     "text": [
      "[INFO 24-07-08 12:46:43.3662 UTC kernel.cc:1233] Loading model from path /tmp/tmpm4epmwl7/model/ with prefix 16f1a7ed998943e3\n"
     ]
    },
    {
     "name": "stdout",
     "output_type": "stream",
     "text": [
      "Model trained in 0:00:02.829208\n",
      "Compiling model...\n"
     ]
    },
    {
     "name": "stderr",
     "output_type": "stream",
     "text": [
      "[INFO 24-07-08 12:46:43.8650 UTC decision_forest.cc:660] Model loaded with 300 root(s), 138084 node(s), and 75 input feature(s).\n",
      "[INFO 24-07-08 12:46:43.8651 UTC abstract_model.cc:1344] Engine \"RandomForestOptPred\" built\n",
      "[INFO 24-07-08 12:46:43.8651 UTC kernel.cc:1061] Use fast generic engine\n"
     ]
    },
    {
     "name": "stdout",
     "output_type": "stream",
     "text": [
      "Model compiled.\n"
     ]
    },
    {
     "data": {
      "text/plain": [
       "<tf_keras.src.callbacks.History at 0x7e214d9a2a70>"
      ]
     },
     "execution_count": 4,
     "metadata": {},
     "output_type": "execute_result"
    }
   ],
   "source": [
    "train_tf=tfdf.keras.pd_dataframe_to_tf_dataset(train_df,label='SalePrice',task=tfdf.keras.Task.REGRESSION)\n",
    "model=tfdf.keras.RandomForestModel(task=tfdf.keras.Task.REGRESSION)\n",
    "model.fit(train_tf)"
   ]
  },
  {
   "cell_type": "code",
   "execution_count": 5,
   "id": "dea1cce4",
   "metadata": {
    "execution": {
     "iopub.execute_input": "2024-07-08T12:46:50.666516Z",
     "iopub.status.busy": "2024-07-08T12:46:50.665838Z",
     "iopub.status.idle": "2024-07-08T12:46:50.704415Z",
     "shell.execute_reply": "2024-07-08T12:46:50.703301Z"
    },
    "papermill": {
     "duration": 0.046394,
     "end_time": "2024-07-08T12:46:50.706651",
     "exception": false,
     "start_time": "2024-07-08T12:46:50.660257",
     "status": "completed"
    },
    "tags": []
   },
   "outputs": [
    {
     "data": {
      "text/plain": [
       "(1459, 80)"
      ]
     },
     "execution_count": 5,
     "metadata": {},
     "output_type": "execute_result"
    }
   ],
   "source": [
    "test_df=pd.read_csv('/kaggle/input/house-prices-advanced-regression-techniques/test.csv')\n",
    "test_df.shape"
   ]
  },
  {
   "cell_type": "markdown",
   "id": "643e065b",
   "metadata": {
    "papermill": {
     "duration": 0.004409,
     "end_time": "2024-07-08T12:46:50.715974",
     "exception": false,
     "start_time": "2024-07-08T12:46:50.711565",
     "status": "completed"
    },
    "tags": []
   },
   "source": [
    "Highlighted the column ID in test_df "
   ]
  },
  {
   "cell_type": "code",
   "execution_count": 6,
   "id": "f769e167",
   "metadata": {
    "execution": {
     "iopub.execute_input": "2024-07-08T12:46:50.727059Z",
     "iopub.status.busy": "2024-07-08T12:46:50.726167Z",
     "iopub.status.idle": "2024-07-08T12:46:50.731135Z",
     "shell.execute_reply": "2024-07-08T12:46:50.730158Z"
    },
    "papermill": {
     "duration": 0.012977,
     "end_time": "2024-07-08T12:46:50.733438",
     "exception": false,
     "start_time": "2024-07-08T12:46:50.720461",
     "status": "completed"
    },
    "tags": []
   },
   "outputs": [],
   "source": [
    "test_id = test_df['Id']"
   ]
  },
  {
   "cell_type": "markdown",
   "id": "fe9def20",
   "metadata": {
    "papermill": {
     "duration": 0.004591,
     "end_time": "2024-07-08T12:46:50.743100",
     "exception": false,
     "start_time": "2024-07-08T12:46:50.738509",
     "status": "completed"
    },
    "tags": []
   },
   "source": [
    "Converted the test dataframe to tf dataset and used the RF model to predict the test tf data set"
   ]
  },
  {
   "cell_type": "code",
   "execution_count": 7,
   "id": "b9d53719",
   "metadata": {
    "execution": {
     "iopub.execute_input": "2024-07-08T12:46:50.754072Z",
     "iopub.status.busy": "2024-07-08T12:46:50.753236Z",
     "iopub.status.idle": "2024-07-08T12:46:51.789546Z",
     "shell.execute_reply": "2024-07-08T12:46:51.788502Z"
    },
    "papermill": {
     "duration": 1.044684,
     "end_time": "2024-07-08T12:46:51.792320",
     "exception": false,
     "start_time": "2024-07-08T12:46:50.747636",
     "status": "completed"
    },
    "tags": []
   },
   "outputs": [
    {
     "name": "stdout",
     "output_type": "stream",
     "text": [
      "2/2 [==============================] - 1s 28ms/step\n"
     ]
    }
   ],
   "source": [
    "test_tf=tfdf.keras.pd_dataframe_to_tf_dataset(test_df)\n",
    "pred=model.predict(test_tf)"
   ]
  },
  {
   "cell_type": "markdown",
   "id": "32098f6b",
   "metadata": {
    "papermill": {
     "duration": 0.004563,
     "end_time": "2024-07-08T12:46:51.801934",
     "exception": false,
     "start_time": "2024-07-08T12:46:51.797371",
     "status": "completed"
    },
    "tags": []
   },
   "source": [
    "converted the output back to dataframe and to csv"
   ]
  },
  {
   "cell_type": "code",
   "execution_count": 8,
   "id": "0f80a494",
   "metadata": {
    "execution": {
     "iopub.execute_input": "2024-07-08T12:46:51.813055Z",
     "iopub.status.busy": "2024-07-08T12:46:51.812682Z",
     "iopub.status.idle": "2024-07-08T12:46:51.826273Z",
     "shell.execute_reply": "2024-07-08T12:46:51.824640Z"
    },
    "papermill": {
     "duration": 0.022054,
     "end_time": "2024-07-08T12:46:51.828748",
     "exception": false,
     "start_time": "2024-07-08T12:46:51.806694",
     "status": "completed"
    },
    "tags": []
   },
   "outputs": [
    {
     "name": "stdout",
     "output_type": "stream",
     "text": [
      "Your submission was successfully saved!\n"
     ]
    }
   ],
   "source": [
    "output = pd.DataFrame({'Id':test_id,'SalePrice': pred.squeeze()})\n",
    "output.to_csv('output.csv', index=False)\n",
    "print(\"Your submission was successfully saved!\")"
   ]
  },
  {
   "cell_type": "code",
   "execution_count": null,
   "id": "38d5af2e",
   "metadata": {
    "papermill": {
     "duration": 0.004633,
     "end_time": "2024-07-08T12:46:51.838442",
     "exception": false,
     "start_time": "2024-07-08T12:46:51.833809",
     "status": "completed"
    },
    "tags": []
   },
   "outputs": [],
   "source": []
  }
 ],
 "metadata": {
  "kaggle": {
   "accelerator": "none",
   "dataSources": [
    {
     "databundleVersionId": 868283,
     "sourceId": 5407,
     "sourceType": "competition"
    }
   ],
   "dockerImageVersionId": 30732,
   "isGpuEnabled": false,
   "isInternetEnabled": true,
   "language": "python",
   "sourceType": "notebook"
  },
  "kernelspec": {
   "display_name": "Python 3",
   "language": "python",
   "name": "python3"
  },
  "language_info": {
   "codemirror_mode": {
    "name": "ipython",
    "version": 3
   },
   "file_extension": ".py",
   "mimetype": "text/x-python",
   "name": "python",
   "nbconvert_exporter": "python",
   "pygments_lexer": "ipython3",
   "version": "3.10.13"
  },
  "papermill": {
   "default_parameters": {},
   "duration": 37.892845,
   "end_time": "2024-07-08T12:46:53.467290",
   "environment_variables": {},
   "exception": null,
   "input_path": "__notebook__.ipynb",
   "output_path": "__notebook__.ipynb",
   "parameters": {},
   "start_time": "2024-07-08T12:46:15.574445",
   "version": "2.5.0"
  }
 },
 "nbformat": 4,
 "nbformat_minor": 5
}
